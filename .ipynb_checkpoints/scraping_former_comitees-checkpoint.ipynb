{
 "cells": [
  {
   "cell_type": "code",
   "execution_count": 1,
   "metadata": {},
   "outputs": [],
   "source": [
    "from bs4 import BeautifulSoup\n",
    "import requests\n",
    "\n",
    "\n",
    "\n",
    "\n",
    "\n",
    "\n",
    "url = \"https://www.ime.usp.br/bioinfo/pos/teses-dissertacoes\"\n",
    "page = requests.get(url)\n",
    "\n",
    "soup = BeautifulSoup(page.text, \"html.parser\")"
   ]
  },
  {
   "cell_type": "code",
   "execution_count": 2,
   "metadata": {},
   "outputs": [],
   "source": [
    "list_of_thesis = soup.find(class_ = \"striped-table\")\n",
    "\n",
    "all_links = list_of_thesis.find_all(\"a\")"
   ]
  },
  {
   "cell_type": "code",
   "execution_count": 3,
   "metadata": {},
   "outputs": [],
   "source": [
    "list_of_pre_thesis_urls = []\n",
    "\n",
    "for link in all_links:\n",
    "    link_now = link.get('href')\n",
    "    if \"teses\" in link_now:\n",
    "        list_of_pre_thesis_urls.append(link_now)"
   ]
  },
  {
   "cell_type": "code",
   "execution_count": 4,
   "metadata": {},
   "outputs": [
    {
     "data": {
      "text/plain": [
       "['http://teses.usp.br/autor.php?autor=57A9A0FBF285',\n",
       " 'http://teses.usp.br/autor.php?autor=17A7188B7471',\n",
       " 'http://teses.usp.br/autor.php?autor=17A86D22C7A1',\n",
       " 'http://teses.usp.br/autor.php?autor=B7AAB42FA53B',\n",
       " 'http://teses.usp.br/autor.php?autor=97A5A5761BB9']"
      ]
     },
     "execution_count": 4,
     "metadata": {},
     "output_type": "execute_result"
    }
   ],
   "source": [
    "list_of_pre_thesis_urls[0:5]"
   ]
  },
  {
   "cell_type": "code",
   "execution_count": 5,
   "metadata": {},
   "outputs": [],
   "source": [
    "def get_thesis_url(pre_thesis_url):\n",
    "    page = requests.get(pre_thesis_url)\n",
    "    soup = BeautifulSoup(page.text, \"html.parser\")\n",
    "    box = soup.find(class_=\"dadosLinha dadosCor1\")\n",
    "    all_links = box.find_all(\"a\")\n",
    "    thesis_url = all_links[0].get(\"href\")\n",
    "    return(thesis_url)\n",
    "\n",
    "def get_comittee_members (thesis_url):\n",
    "    page = requests.get(thesis_url)\n",
    "    soup = BeautifulSoup(page.text, \"html.parser\")\n",
    "    commitee = soup.select(\"#CorpoTexto > div:nth-child(23)\")[0].text\n",
    "    commitee = commitee.split(\"\\n\\n\")\n",
    "    student = soup.select(\"#CorpoTexto > div:nth-child(9)\")[0].text\n",
    "    students_commitee_dict = dict()\n",
    "    students_commitee_dict[student] = commitee\n",
    "    return(students_commitee_dict)\n"
   ]
  },
  {
   "cell_type": "code",
   "execution_count": null,
   "metadata": {},
   "outputs": [],
   "source": [
    "bioinfo_commitees_dict = dict()\n",
    "\n",
    "for pre_thesis_url in list_of_pre_thesis_urls:\n",
    "    try:\n",
    "        thesis_url = get_thesis_url(pre_thesis_url)\n",
    "        commitee_dict = get_comittee_members(thesis_url)\n",
    "        bioinfo_commitees_dict.update(commitee_dict)\n",
    "    except:\n",
    "        None"
   ]
  },
  {
   "cell_type": "code",
   "execution_count": null,
   "metadata": {},
   "outputs": [],
   "source": [
    "import pandas as pd\n",
    "\n",
    "bioinfo_commitees_df = pd.DataFrame.from_dict(bioinfo_commitees_dict, orient = \"index\")\n",
    "\n",
    "bioinfo_commitees_df"
   ]
  },
  {
   "cell_type": "code",
   "execution_count": 99,
   "metadata": {},
   "outputs": [
    {
     "name": "stdout",
     "output_type": "stream",
     "text": [
      "None\n"
     ]
    }
   ],
   "source": [
    "import re\n",
    "\n",
    "\n",
    "bla = bioinfo_commitees_df[1].replace(to_replace=r\"\\(Presidente\\)\", value=\"oi\", regex=True, inplace=True)\n",
    "\n",
    "print(bla)\n"
   ]
  },
  {
   "cell_type": "code",
   "execution_count": 49,
   "metadata": {},
   "outputs": [
    {
     "ename": "NameError",
     "evalue": "name 'which' is not defined",
     "output_type": "error",
     "traceback": [
      "\u001b[0;31m---------------------------------------------------------------------------\u001b[0m",
      "\u001b[0;31mNameError\u001b[0m                                 Traceback (most recent call last)",
      "\u001b[0;32m<ipython-input-49-02f6aaa3c0f2>\u001b[0m in \u001b[0;36m<module>\u001b[0;34m\u001b[0m\n\u001b[0;32m----> 1\u001b[0;31m \u001b[0mwhich\u001b[0m\u001b[0;34m(\u001b[0m\u001b[0;34m\"Nakaya\"\u001b[0m \u001b[0;32min\u001b[0m \u001b[0mbioinfo_commitees_df\u001b[0m\u001b[0;34m[\u001b[0m\u001b[0;36m1\u001b[0m\u001b[0;34m]\u001b[0m\u001b[0;34m)\u001b[0m\u001b[0;34m\u001b[0m\u001b[0;34m\u001b[0m\u001b[0m\n\u001b[0m",
      "\u001b[0;31mNameError\u001b[0m: name 'which' is not defined"
     ]
    }
   ],
   "source": []
  },
  {
   "cell_type": "code",
   "execution_count": 54,
   "metadata": {},
   "outputs": [
    {
     "data": {
      "text/plain": [
       "{'Junier Marrero Gutierrez': ['',\n",
       "  'Koide, Tie (Presidente)',\n",
       "  'Martinez, Cristina Elisa Alvarez',\n",
       "  'Pinheiro, Daniel Guariz',\n",
       "  'Silva Neto, José Freire da\\n']}"
      ]
     },
     "execution_count": 54,
     "metadata": {},
     "output_type": "execute_result"
    }
   ],
   "source": []
  },
  {
   "cell_type": "code",
   "execution_count": null,
   "metadata": {},
   "outputs": [],
   "source": [
    "\n",
    "    "
   ]
  }
 ],
 "metadata": {
  "kernelspec": {
   "display_name": "Python 3",
   "language": "python",
   "name": "python3"
  },
  "language_info": {
   "codemirror_mode": {
    "name": "ipython",
    "version": 3
   },
   "file_extension": ".py",
   "mimetype": "text/x-python",
   "name": "python",
   "nbconvert_exporter": "python",
   "pygments_lexer": "ipython3",
   "version": "3.6.5"
  }
 },
 "nbformat": 4,
 "nbformat_minor": 4
}
