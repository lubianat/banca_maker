{
 "cells": [
  {
   "cell_type": "code",
   "execution_count": 9,
   "metadata": {},
   "outputs": [],
   "source": [
    "from bs4 import BeautifulSoup\n",
    "import requests\n",
    "\n",
    "\n",
    "url = \"https://www.ime.usp.br/bioinfo/pos/teses-dissertacoes\"\n",
    "page = requests.get(url)\n",
    "\n",
    "soup = BeautifulSoup(page.text, \"html.parser\")"
   ]
  },
  {
   "cell_type": "code",
   "execution_count": 12,
   "metadata": {},
   "outputs": [],
   "source": [
    "list_of_thesis = soup.find(class_ = \"striped-table\")\n",
    "\n",
    "all_links = list_of_thesis.find_all(\"a\")"
   ]
  },
  {
   "cell_type": "code",
   "execution_count": 20,
   "metadata": {},
   "outputs": [],
   "source": [
    "list_of_thesis_links = []\n",
    "\n",
    "for link in all_links:\n",
    "    link_now = link.get('href')\n",
    "    if \"teses\" in link_now:\n",
    "        list_of_thesis_links.append(list_of_thesis_links)"
   ]
  },
  {
   "cell_type": "code",
   "execution_count": 27,
   "metadata": {},
   "outputs": [],
   "source": [
    "    url = \"https://teses.usp.br/index.php?option=com_jumi&fileid=38&Itemid=183&id=57A9A0FBF285\" \n",
    "    page = requests.get(url)\n",
    "    soup = BeautifulSoup(page.text, \"html.parser\")"
   ]
  },
  {
   "cell_type": "code",
   "execution_count": 37,
   "metadata": {},
   "outputs": [],
   "source": [
    "    list_of_thesis = soup.find(class_ = \"dadosLinha dadosCor1\")\n",
    "    all_links = list_of_thesis.find_all(\"a\")\n",
    "    thesis_url = all_links[0].get(\"href\")"
   ]
  },
  {
   "cell_type": "code",
   "execution_count": 38,
   "metadata": {},
   "outputs": [
    {
     "data": {
      "text/plain": [
       "'https://www.teses.usp.br/teses/disponiveis/95/95131/tde-03122019-115209/?&lang=pt-br'"
      ]
     },
     "execution_count": 38,
     "metadata": {},
     "output_type": "execute_result"
    }
   ],
   "source": [
    "thesis_url"
   ]
  },
  {
   "cell_type": "code",
   "execution_count": 51,
   "metadata": {},
   "outputs": [],
   "source": [
    "page = requests.get(thesis_url)\n",
    "soup = BeautifulSoup(page.text, \"html.parser\")\n",
    "\n",
    "commitee = soup.select(\"#CorpoTexto > div:nth-child(23)\")[0].text\n",
    "\n",
    "commitee = commitee.split(\"\\n\\n\")\n",
    "\n",
    "student = soup.select(\"#CorpoTexto > div:nth-child(9)\")[0].text\n"
   ]
  },
  {
   "cell_type": "code",
   "execution_count": 52,
   "metadata": {},
   "outputs": [],
   "source": [
    "students_commitee_dict = dict()"
   ]
  },
  {
   "cell_type": "code",
   "execution_count": 53,
   "metadata": {},
   "outputs": [],
   "source": [
    "students_commitee_dict[student] = commitee"
   ]
  },
  {
   "cell_type": "code",
   "execution_count": 54,
   "metadata": {},
   "outputs": [
    {
     "data": {
      "text/plain": [
       "{'Junier Marrero Gutierrez': ['',\n",
       "  'Koide, Tie (Presidente)',\n",
       "  'Martinez, Cristina Elisa Alvarez',\n",
       "  'Pinheiro, Daniel Guariz',\n",
       "  'Silva Neto, José Freire da\\n']}"
      ]
     },
     "execution_count": 54,
     "metadata": {},
     "output_type": "execute_result"
    }
   ],
   "source": [
    "students_commitee_dict"
   ]
  },
  {
   "cell_type": "code",
   "execution_count": null,
   "metadata": {},
   "outputs": [],
   "source": []
  }
 ],
 "metadata": {
  "kernelspec": {
   "display_name": "Python 3",
   "language": "python",
   "name": "python3"
  },
  "language_info": {
   "codemirror_mode": {
    "name": "ipython",
    "version": 3
   },
   "file_extension": ".py",
   "mimetype": "text/x-python",
   "name": "python",
   "nbconvert_exporter": "python",
   "pygments_lexer": "ipython3",
   "version": "3.6.8"
  }
 },
 "nbformat": 4,
 "nbformat_minor": 4
}
