{
 "cells": [
  {
   "cell_type": "code",
   "execution_count": 1,
   "metadata": {},
   "outputs": [],
   "source": [
    "from bs4 import BeautifulSoup\n",
    "import requests\n",
    "\n",
    "\n",
    "\n",
    "\n",
    "\n",
    "\n",
    "url = \"https://www.ime.usp.br/bioinfo/pos/teses-dissertacoes\"\n",
    "page = requests.get(url)\n",
    "\n",
    "soup = BeautifulSoup(page.text, \"html.parser\")"
   ]
  },
  {
   "cell_type": "code",
   "execution_count": 2,
   "metadata": {},
   "outputs": [],
   "source": [
    "list_of_thesis = soup.find(class_ = \"striped-table\")\n",
    "\n",
    "all_links = list_of_thesis.find_all(\"a\")"
   ]
  },
  {
   "cell_type": "code",
   "execution_count": 3,
   "metadata": {},
   "outputs": [],
   "source": [
    "list_of_pre_thesis_urls = []\n",
    "\n",
    "for link in all_links:\n",
    "    link_now = link.get('href')\n",
    "    if \"teses\" in link_now:\n",
    "        list_of_pre_thesis_urls.append(link_now)"
   ]
  },
  {
   "cell_type": "code",
   "execution_count": 6,
   "metadata": {},
   "outputs": [
    {
     "data": {
      "text/plain": [
       "['http://teses.usp.br/autor.php?autor=57A9A0FBF285',\n",
       " 'http://teses.usp.br/autor.php?autor=17A7188B7471',\n",
       " 'http://teses.usp.br/autor.php?autor=17A86D22C7A1',\n",
       " 'http://teses.usp.br/autor.php?autor=B7AAB42FA53B',\n",
       " 'http://teses.usp.br/autor.php?autor=97A5A5761BB9']"
      ]
     },
     "execution_count": 6,
     "metadata": {},
     "output_type": "execute_result"
    }
   ],
   "source": [
    "list_of_pre_thesis_urls[0:5]"
   ]
  },
  {
   "cell_type": "code",
   "execution_count": 32,
   "metadata": {},
   "outputs": [],
   "source": [
    "def get_thesis_url(pre_thesis_url):\n",
    "    page = requests.get(pre_thesis_url)\n",
    "    soup = BeautifulSoup(page.text, \"html.parser\")\n",
    "    box = soup.find(class_=\"dadosLinha dadosCor1\")\n",
    "    all_links = box.find_all(\"a\")\n",
    "    thesis_url = all_links[0].get(\"href\")\n",
    "    return(thesis_url)\n",
    "\n",
    "def get_comittee_members (thesis_url):\n",
    "    page = requests.get(thesis_url)\n",
    "    soup = BeautifulSoup(page.text, \"html.parser\")\n",
    "    commitee = soup.select(\"#CorpoTexto > div:nth-child(23)\")[0].text\n",
    "    commitee = commitee.split(\"\\n\\n\")\n",
    "    student = soup.select(\"#CorpoTexto > div:nth-child(9)\")[0].text\n",
    "    students_commitee_dict = dict()\n",
    "    students_commitee_dict[student] = commitee\n",
    "    return(students_commitee_dict)\n"
   ]
  },
  {
   "cell_type": "code",
   "execution_count": 37,
   "metadata": {},
   "outputs": [],
   "source": [
    "bioinfo_commitees_dict = dict()\n",
    "\n",
    "for pre_thesis_url in list_of_pre_thesis_urls:\n",
    "    try:\n",
    "        thesis_url = get_thesis_url(pre_thesis_url)\n",
    "        commitee_dict = get_comittee_members(thesis_url)\n",
    "        bioinfo_commitees_dict.update(commitee_dict)\n",
    "    except:\n",
    "        None"
   ]
  },
  {
   "cell_type": "code",
   "execution_count": 50,
   "metadata": {},
   "outputs": [
    {
     "data": {
      "text/html": [
       "<div>\n",
       "<style scoped>\n",
       "    .dataframe tbody tr th:only-of-type {\n",
       "        vertical-align: middle;\n",
       "    }\n",
       "\n",
       "    .dataframe tbody tr th {\n",
       "        vertical-align: top;\n",
       "    }\n",
       "\n",
       "    .dataframe thead th {\n",
       "        text-align: right;\n",
       "    }\n",
       "</style>\n",
       "<table border=\"1\" class=\"dataframe\">\n",
       "  <thead>\n",
       "    <tr style=\"text-align: right;\">\n",
       "      <th></th>\n",
       "      <th>0</th>\n",
       "      <th>1</th>\n",
       "      <th>2</th>\n",
       "      <th>3</th>\n",
       "      <th>4</th>\n",
       "      <th>5</th>\n",
       "    </tr>\n",
       "  </thead>\n",
       "  <tbody>\n",
       "    <tr>\n",
       "      <th>Junier Marrero Gutierrez</th>\n",
       "      <td></td>\n",
       "      <td>Koide, Tie (Presidente)</td>\n",
       "      <td>Martinez, Cristina Elisa Alvarez</td>\n",
       "      <td>Pinheiro, Daniel Guariz</td>\n",
       "      <td>Silva Neto, José Freire da\\n</td>\n",
       "      <td>None</td>\n",
       "    </tr>\n",
       "    <tr>\n",
       "      <th>Caio Rafael do Nascimento Santiago</th>\n",
       "      <td></td>\n",
       "      <td>Digiampietri, Luciano Antonio (Presidente)</td>\n",
       "      <td>Chaim, Marcos Lordello</td>\n",
       "      <td>Ferreira, João Eduardo\\n</td>\n",
       "      <td>None</td>\n",
       "      <td>None</td>\n",
       "    </tr>\n",
       "    <tr>\n",
       "      <th>Suzane de Andrade Barboza</th>\n",
       "      <td></td>\n",
       "      <td>Digiampietri, Luciano Antonio (Presidente)</td>\n",
       "      <td>Amaral, Fábio Sarubbi Raposo do</td>\n",
       "      <td>Lima, Ariane Machado</td>\n",
       "      <td>Oliveira, Julio Cezar Franco de\\n</td>\n",
       "      <td>None</td>\n",
       "    </tr>\n",
       "    <tr>\n",
       "      <th>Juan Enrique Faya Castillo</th>\n",
       "      <td></td>\n",
       "      <td>Oliveira, Paulo Sérgio Lopes de (Presidente)</td>\n",
       "      <td>Benedetti, Celso Eduardo</td>\n",
       "      <td>Giuliatti, Silvana</td>\n",
       "      <td>Schechtman, Deborah\\n</td>\n",
       "      <td>None</td>\n",
       "    </tr>\n",
       "    <tr>\n",
       "      <th>Felipe Prata Lima</th>\n",
       "      <td></td>\n",
       "      <td>Setubal, João Carlos (Presidente)</td>\n",
       "      <td>Araujo, Welington Luiz de</td>\n",
       "      <td>Dias Neto, Emmanuel</td>\n",
       "      <td>Hashimoto, Ronaldo Fumio</td>\n",
       "      <td>Varani, Alessandro de Mello\\n</td>\n",
       "    </tr>\n",
       "    <tr>\n",
       "      <th>...</th>\n",
       "      <td>...</td>\n",
       "      <td>...</td>\n",
       "      <td>...</td>\n",
       "      <td>...</td>\n",
       "      <td>...</td>\n",
       "      <td>...</td>\n",
       "    </tr>\n",
       "    <tr>\n",
       "      <th>Gustavo Henrique Esteves</th>\n",
       "      <td></td>\n",
       "      <td>Neves, Eduardo Jordao (Presidente)</td>\n",
       "      <td>Almeida, Sergio Verjovski de</td>\n",
       "      <td>Cesar Junior, Roberto Marcondes</td>\n",
       "      <td>Garcia, Nancy Lopes</td>\n",
       "      <td>Nunes, Luiz Roberto\\n</td>\n",
       "    </tr>\n",
       "    <tr>\n",
       "      <th>Bruno Monte de Castro</th>\n",
       "      <td></td>\n",
       "      <td>Leonardi, Florencia Graciela (Presidente)</td>\n",
       "      <td>García, Jesús Enrique</td>\n",
       "      <td>Iambartsev, Anatoli\\n</td>\n",
       "      <td>None</td>\n",
       "      <td>None</td>\n",
       "    </tr>\n",
       "    <tr>\n",
       "      <th>Cesar Armando Beltran Castañon</th>\n",
       "      <td></td>\n",
       "      <td>Gruber, Arthur (Presidente)</td>\n",
       "      <td>Bruno, Odemir Martinez</td>\n",
       "      <td>Ferreira, Marcelo Urbano</td>\n",
       "      <td>Hirata, Nina Sumiko Tomita</td>\n",
       "      <td>Lotufo, Roberto de Alencar\\n</td>\n",
       "    </tr>\n",
       "    <tr>\n",
       "      <th>Bruno Sanchez de Araujo</th>\n",
       "      <td></td>\n",
       "      <td>Machado-Lima, Ariane (Presidente)</td>\n",
       "      <td>Martins Junior, David Corrêa</td>\n",
       "      <td>Paraboni, Ivandre</td>\n",
       "      <td>Salvini, Rogerio Lopes\\n</td>\n",
       "      <td>None</td>\n",
       "    </tr>\n",
       "    <tr>\n",
       "      <th>Fábio Nakano</th>\n",
       "      <td></td>\n",
       "      <td>Pereira, Carlos Alberto de Braganca (Presidente)</td>\n",
       "      <td>Achcar, Jorge Alberto</td>\n",
       "      <td>Cozman, Fabio Gagliardi</td>\n",
       "      <td>Klaczko, Louis Bernard</td>\n",
       "      <td>Otto, Paulo Alberto\\n</td>\n",
       "    </tr>\n",
       "  </tbody>\n",
       "</table>\n",
       "<p>117 rows × 6 columns</p>\n",
       "</div>"
      ],
      "text/plain": [
       "                                   0   \\\n",
       "Junier Marrero Gutierrez                \n",
       "Caio Rafael do Nascimento Santiago      \n",
       "Suzane de Andrade Barboza               \n",
       "Juan Enrique Faya Castillo              \n",
       "Felipe Prata Lima                       \n",
       "...                                ..   \n",
       "Gustavo Henrique Esteves                \n",
       "Bruno Monte de Castro                   \n",
       "Cesar Armando Beltran Castañon          \n",
       "Bruno Sanchez de Araujo                 \n",
       "Fábio Nakano                            \n",
       "\n",
       "                                                                                   1  \\\n",
       "Junier Marrero Gutierrez                                     Koide, Tie (Presidente)   \n",
       "Caio Rafael do Nascimento Santiago        Digiampietri, Luciano Antonio (Presidente)   \n",
       "Suzane de Andrade Barboza                 Digiampietri, Luciano Antonio (Presidente)   \n",
       "Juan Enrique Faya Castillo              Oliveira, Paulo Sérgio Lopes de (Presidente)   \n",
       "Felipe Prata Lima                                  Setubal, João Carlos (Presidente)   \n",
       "...                                                                              ...   \n",
       "Gustavo Henrique Esteves                          Neves, Eduardo Jordao (Presidente)   \n",
       "Bruno Monte de Castro                      Leonardi, Florencia Graciela (Presidente)   \n",
       "Cesar Armando Beltran Castañon                           Gruber, Arthur (Presidente)   \n",
       "Bruno Sanchez de Araujo                            Machado-Lima, Ariane (Presidente)   \n",
       "Fábio Nakano                        Pereira, Carlos Alberto de Braganca (Presidente)   \n",
       "\n",
       "                                                                   2  \\\n",
       "Junier Marrero Gutierrez            Martinez, Cristina Elisa Alvarez   \n",
       "Caio Rafael do Nascimento Santiago            Chaim, Marcos Lordello   \n",
       "Suzane de Andrade Barboza            Amaral, Fábio Sarubbi Raposo do   \n",
       "Juan Enrique Faya Castillo                  Benedetti, Celso Eduardo   \n",
       "Felipe Prata Lima                          Araujo, Welington Luiz de   \n",
       "...                                                              ...   \n",
       "Gustavo Henrique Esteves                Almeida, Sergio Verjovski de   \n",
       "Bruno Monte de Castro                          García, Jesús Enrique   \n",
       "Cesar Armando Beltran Castañon                Bruno, Odemir Martinez   \n",
       "Bruno Sanchez de Araujo                 Martins Junior, David Corrêa   \n",
       "Fábio Nakano                                   Achcar, Jorge Alberto   \n",
       "\n",
       "                                                                  3  \\\n",
       "Junier Marrero Gutierrez                    Pinheiro, Daniel Guariz   \n",
       "Caio Rafael do Nascimento Santiago         Ferreira, João Eduardo\\n   \n",
       "Suzane de Andrade Barboza                      Lima, Ariane Machado   \n",
       "Juan Enrique Faya Castillo                       Giuliatti, Silvana   \n",
       "Felipe Prata Lima                               Dias Neto, Emmanuel   \n",
       "...                                                             ...   \n",
       "Gustavo Henrique Esteves            Cesar Junior, Roberto Marcondes   \n",
       "Bruno Monte de Castro                         Iambartsev, Anatoli\\n   \n",
       "Cesar Armando Beltran Castañon             Ferreira, Marcelo Urbano   \n",
       "Bruno Sanchez de Araujo                           Paraboni, Ivandre   \n",
       "Fábio Nakano                                Cozman, Fabio Gagliardi   \n",
       "\n",
       "                                                                    4  \\\n",
       "Junier Marrero Gutierrez                 Silva Neto, José Freire da\\n   \n",
       "Caio Rafael do Nascimento Santiago                               None   \n",
       "Suzane de Andrade Barboza           Oliveira, Julio Cezar Franco de\\n   \n",
       "Juan Enrique Faya Castillo                      Schechtman, Deborah\\n   \n",
       "Felipe Prata Lima                            Hashimoto, Ronaldo Fumio   \n",
       "...                                                               ...   \n",
       "Gustavo Henrique Esteves                          Garcia, Nancy Lopes   \n",
       "Bruno Monte de Castro                                            None   \n",
       "Cesar Armando Beltran Castañon             Hirata, Nina Sumiko Tomita   \n",
       "Bruno Sanchez de Araujo                      Salvini, Rogerio Lopes\\n   \n",
       "Fábio Nakano                                   Klaczko, Louis Bernard   \n",
       "\n",
       "                                                                5  \n",
       "Junier Marrero Gutierrez                                     None  \n",
       "Caio Rafael do Nascimento Santiago                           None  \n",
       "Suzane de Andrade Barboza                                    None  \n",
       "Juan Enrique Faya Castillo                                   None  \n",
       "Felipe Prata Lima                   Varani, Alessandro de Mello\\n  \n",
       "...                                                           ...  \n",
       "Gustavo Henrique Esteves                    Nunes, Luiz Roberto\\n  \n",
       "Bruno Monte de Castro                                        None  \n",
       "Cesar Armando Beltran Castañon       Lotufo, Roberto de Alencar\\n  \n",
       "Bruno Sanchez de Araujo                                      None  \n",
       "Fábio Nakano                                Otto, Paulo Alberto\\n  \n",
       "\n",
       "[117 rows x 6 columns]"
      ]
     },
     "execution_count": 50,
     "metadata": {},
     "output_type": "execute_result"
    }
   ],
   "source": [
    "import pandas as pd\n",
    "\n",
    "bioinfo_commitees_df = pd.DataFrame.from_dict(bioinfo_commitees_dict, orient = \"index\")\n",
    "\n",
    "bioinfo_commitees_df"
   ]
  },
  {
   "cell_type": "code",
   "execution_count": 52,
   "metadata": {},
   "outputs": [
    {
     "data": {
      "text/plain": [
       "False"
      ]
     },
     "execution_count": 52,
     "metadata": {},
     "output_type": "execute_result"
    }
   ],
   "source": []
  },
  {
   "cell_type": "code",
   "execution_count": 49,
   "metadata": {},
   "outputs": [
    {
     "ename": "NameError",
     "evalue": "name 'which' is not defined",
     "output_type": "error",
     "traceback": [
      "\u001b[0;31m---------------------------------------------------------------------------\u001b[0m",
      "\u001b[0;31mNameError\u001b[0m                                 Traceback (most recent call last)",
      "\u001b[0;32m<ipython-input-49-02f6aaa3c0f2>\u001b[0m in \u001b[0;36m<module>\u001b[0;34m\u001b[0m\n\u001b[0;32m----> 1\u001b[0;31m \u001b[0mwhich\u001b[0m\u001b[0;34m(\u001b[0m\u001b[0;34m\"Nakaya\"\u001b[0m \u001b[0;32min\u001b[0m \u001b[0mbioinfo_commitees_df\u001b[0m\u001b[0;34m[\u001b[0m\u001b[0;36m1\u001b[0m\u001b[0;34m]\u001b[0m\u001b[0;34m)\u001b[0m\u001b[0;34m\u001b[0m\u001b[0;34m\u001b[0m\u001b[0m\n\u001b[0m",
      "\u001b[0;31mNameError\u001b[0m: name 'which' is not defined"
     ]
    }
   ],
   "source": []
  },
  {
   "cell_type": "code",
   "execution_count": 54,
   "metadata": {},
   "outputs": [
    {
     "data": {
      "text/plain": [
       "{'Junier Marrero Gutierrez': ['',\n",
       "  'Koide, Tie (Presidente)',\n",
       "  'Martinez, Cristina Elisa Alvarez',\n",
       "  'Pinheiro, Daniel Guariz',\n",
       "  'Silva Neto, José Freire da\\n']}"
      ]
     },
     "execution_count": 54,
     "metadata": {},
     "output_type": "execute_result"
    }
   ],
   "source": []
  },
  {
   "cell_type": "code",
   "execution_count": null,
   "metadata": {},
   "outputs": [],
   "source": [
    "\n",
    "    "
   ]
  }
 ],
 "metadata": {
  "kernelspec": {
   "display_name": "Python 3",
   "language": "python",
   "name": "python3"
  },
  "language_info": {
   "codemirror_mode": {
    "name": "ipython",
    "version": 3
   },
   "file_extension": ".py",
   "mimetype": "text/x-python",
   "name": "python",
   "nbconvert_exporter": "python",
   "pygments_lexer": "ipython3",
   "version": "3.6.8"
  }
 },
 "nbformat": 4,
 "nbformat_minor": 4
}
